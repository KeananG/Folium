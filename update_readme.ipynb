{
 "cells": [
  {
   "cell_type": "code",
   "execution_count": 2,
   "metadata": {},
   "outputs": [],
   "source": [
    "import os\n",
    "\n",
    "# Get the current working directory as the root directory\n",
    "root_directory = os.getcwd()\n",
    "\n",
    "# Generate the directory tree\n",
    "directory_tree = ''\n",
    "for root, dirs, files in os.walk(root_directory):\n",
    "    level = root.replace(root_directory, '').count(os.sep)\n",
    "    indent = '    ' * (level - 1)\n",
    "    directory_tree += f'{indent}├── {os.path.basename(root)}\\n'\n",
    "    sub_indent = '    ' * level\n",
    "    for file in files:\n",
    "        directory_tree += f'{sub_indent}├── {file}\\n'\n",
    "\n",
    "# Update the README.md file\n",
    "readme_file = os.path.join(root_directory, 'README.md')\n",
    "with open(readme_file, 'r') as file:\n",
    "    readme_content = file.read()\n",
    "\n",
    "updated_readme_content = readme_content.replace('```directory_structure```', directory_tree)\n",
    "\n",
    "with open(readme_file, 'w') as file:\n",
    "    file.write(updated_readme_content)\n",
    "\n",
    "print('README.md file updated successfully.')"
   ]
  }
 ],
 "metadata": {
  "kernelspec": {
   "display_name": "Python (flatiron-env)",
   "language": "python",
   "name": "flatiron-env"
  },
  "language_info": {
   "codemirror_mode": {
    "name": "ipython",
    "version": 3
   },
   "file_extension": ".py",
   "mimetype": "text/x-python",
   "name": "python",
   "nbconvert_exporter": "python",
   "pygments_lexer": "ipython3",
   "version": "3.8.5"
  }
 },
 "nbformat": 4,
 "nbformat_minor": 4
}
