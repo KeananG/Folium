{
 "cells": [
  {
   "cell_type": "code",
   "execution_count": 2,
   "metadata": {},
   "outputs": [],
   "source": [
    "import os\n",
    "\n",
    "def generate_directory_tree(path, indent=''):\n",
    "    tree = ''\n",
    "    items = sorted(os.listdir(path))\n",
    "    \n",
    "    for i, item in enumerate(items):\n",
    "        item_path = os.path.join(path, item)\n",
    "        tree += f'{indent}├── {item}\\n'\n",
    "        \n",
    "        if os.path.isdir(item_path):\n",
    "            if i == len(items) - 1:\n",
    "                tree += generate_directory_tree(item_path, indent + '    ')\n",
    "            else:\n",
    "                tree += generate_directory_tree(item_path, indent + '│   ')\n",
    "    \n",
    "    return tree\n",
    "\n",
    "# Specify the path to the root directory of your project\n",
    "root_directory = '/path/to/your/project'\n",
    "\n",
    "# Generate the directory tree\n",
    "directory_tree = generate_directory_tree(root_directory)\n",
    "\n",
    "# Read the current README.md file\n",
    "with open('README.md', 'r') as readme_file:\n",
    "    readme_content = readme_file.read()\n",
    "\n",
    "# Find the section to update in the README.md file\n",
    "start_tag = '```'\n",
    "end_tag = '```'\n",
    "start_index = readme_content.find(start_tag)\n",
    "end_index = readme_content.find(end_tag, start_index + len(start_tag))\n",
    "\n",
    "# Replace the old directory structure with the updated one\n",
    "updated_readme_content = readme_content[:start_index + len(start_tag)] + '\\n' + directory_tree + readme_content[end_index:]\n",
    "\n",
    "# Write the updated content back to the README.md file\n",
    "with open('README.md', 'w') as readme_file:\n",
    "    readme_file.write(updated_readme_content)\n",
    "\n",
    "print('Directory structure in README.md updated successfully.')"
   ]
  }
 ],
 "metadata": {
  "kernelspec": {
   "display_name": "Python (flatiron-env)",
   "language": "python",
   "name": "flatiron-env"
  },
  "language_info": {
   "codemirror_mode": {
    "name": "ipython",
    "version": 3
   },
   "file_extension": ".py",
   "mimetype": "text/x-python",
   "name": "python",
   "nbconvert_exporter": "python",
   "pygments_lexer": "ipython3",
   "version": "3.8.5"
  }
 },
 "nbformat": 4,
 "nbformat_minor": 4
}
